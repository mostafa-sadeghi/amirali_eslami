{
  "nbformat": 4,
  "nbformat_minor": 0,
  "metadata": {
    "colab": {
      "provenance": [],
      "authorship_tag": "ABX9TyMenml8RYzbIH92e4ZmYJyu",
      "include_colab_link": true
    },
    "kernelspec": {
      "name": "python3",
      "display_name": "Python 3"
    },
    "language_info": {
      "name": "python"
    }
  },
  "cells": [
    {
      "cell_type": "markdown",
      "metadata": {
        "id": "view-in-github",
        "colab_type": "text"
      },
      "source": [
        "<a href=\"https://colab.research.google.com/github/mostafa-sadeghi/amirali_eslami/blob/main/another_way_vgg16oncifar10.ipynb\" target=\"_parent\"><img src=\"https://colab.research.google.com/assets/colab-badge.svg\" alt=\"Open In Colab\"/></a>"
      ]
    },
    {
      "cell_type": "code",
      "execution_count": 1,
      "metadata": {
        "id": "Ig1V733feoUC"
      },
      "outputs": [],
      "source": [
        "import tensorflow as tf\n",
        "import tensorflow.keras as K\n",
        "import numpy as np\n",
        "import matplotlib.pyplot as plt\n",
        "%matplotlib inline"
      ]
    },
    {
      "cell_type": "code",
      "source": [
        "def preprocess_data(X, Y):\n",
        "    \"\"\"\n",
        "    function that pre-processes the CIFAR10 dataset \n",
        "    \"\"\"\n",
        "    X = K.applications.vgg16.preprocess_input(X)\n",
        "    Y = K.utils.to_categorical(Y)\n",
        "    return X, Y"
      ],
      "metadata": {
        "id": "rPpsSRGnfenq"
      },
      "execution_count": 5,
      "outputs": []
    },
    {
      "cell_type": "code",
      "source": [
        "# load the Cifar10 dataset, 50,000 training images\n",
        "# and 10,000 test images (here used as validation data)\n",
        "(x_train, y_train), (x_test, y_test) = K.datasets.cifar10.load_data()\n",
        "# preprocess the data using the application's preprocess_input method and convert the labels to one-hot encodings\n",
        "x_train, y_train = preprocess_data(x_train, y_train)\n",
        "x_test, y_test = preprocess_data(x_test, y_test)"
      ],
      "metadata": {
        "id": "K5ZMegCTfelB"
      },
      "execution_count": 6,
      "outputs": []
    },
    {
      "cell_type": "code",
      "source": [
        "from sklearn.model_selection import train_test_split\n",
        "x_train, x_validate, y_train, y_validate = train_test_split(x_train, y_train, test_size=0.2, random_state=12345)"
      ],
      "metadata": {
        "id": "MlOt8oLjhsWY"
      },
      "execution_count": 12,
      "outputs": []
    },
    {
      "cell_type": "code",
      "source": [
        "initializer = K.initializers.he_normal()\n",
        "input_tensor = K.Input(shape=(32, 32, 3))\n",
        "# resize images to the image size upon which the network\n",
        "\n",
        "resized_images = K.layers.Lambda(lambda image: tf.image.resize(image, (224, 224)))(input_tensor)\n",
        "model = K.applications.VGG16(include_top=False,\n",
        "                                   weights='imagenet',\n",
        "                                   input_tensor=resized_images,\n",
        "                                   input_shape=(224, 224, 3),\n",
        "                                   pooling='max',\n",
        "                                   classes=1000)\n",
        "# make the weights and biases of the base model non-trainable\n",
        "\n",
        "for layer in model.layers:\n",
        "    layer.trainable = False\n",
        "output = model.layers[-1].output\n",
        "# reshape the output feature map of the base model before passing the data on to the Dense layers of the classifier head\n",
        "flatten = K.layers.Flatten()\n",
        "output = flatten(output)\n",
        "layer_256 = K.layers.Dense(units=256,\n",
        "                           activation='elu',\n",
        "                           kernel_initializer=initializer,\n",
        "                           kernel_regularizer=K.regularizers.l2())\n",
        "output = layer_256(output)\n",
        "dropout = K.layers.Dropout(0.5)\n",
        "output = dropout(output)\n",
        "softmax = K.layers.Dense(units=10,\n",
        "                         activation='softmax',\n",
        "                         kernel_initializer=initializer,\n",
        "                         kernel_regularizer=K.regularizers.l2())\n",
        "output = softmax(output)\n",
        "model = K.models.Model(inputs=input_tensor, outputs=output)"
      ],
      "metadata": {
        "colab": {
          "base_uri": "https://localhost:8080/"
        },
        "id": "IE-11A3bfeie",
        "outputId": "07d7ad65-38b8-4254-d23d-2cb777fc176a"
      },
      "execution_count": 8,
      "outputs": [
        {
          "output_type": "stream",
          "name": "stdout",
          "text": [
            "Downloading data from https://storage.googleapis.com/tensorflow/keras-applications/vgg16/vgg16_weights_tf_dim_ordering_tf_kernels_notop.h5\n",
            "58889256/58889256 [==============================] - 2s 0us/step\n"
          ]
        },
        {
          "output_type": "stream",
          "name": "stderr",
          "text": [
            "/usr/local/lib/python3.9/dist-packages/keras/initializers/initializers_v2.py:120: UserWarning: The initializer HeNormal is unseeded and being called multiple times, which will return identical values  each time (even if the initializer is unseeded). Please update your code to provide a seed to the initializer, or avoid using the same initalizer instance more than once.\n",
            "  warnings.warn(\n"
          ]
        }
      ]
    },
    {
      "cell_type": "code",
      "source": [
        "model.compile(\n",
        "         optimizer=K.optimizers.Adam(learning_rate=1e-4),\n",
        "         loss='categorical_crossentropy',\n",
        "         metrics=['accuracy'])"
      ],
      "metadata": {
        "id": "eBfodTMzfegH"
      },
      "execution_count": 9,
      "outputs": []
    },
    {
      "cell_type": "code",
      "source": [
        "# stop training when val_accuracy has stopped improving\n",
        "early_stop = K.callbacks.EarlyStopping(monitor='val_accuracy',\n",
        "                                       patience=3,\n",
        "                                       verbose=1,\n",
        "                                       mode='max')"
      ],
      "metadata": {
        "id": "5FpN6BM4g_wY"
      },
      "execution_count": 10,
      "outputs": []
    },
    {
      "cell_type": "code",
      "source": [
        "history = model.fit(x_train,y_train,\n",
        "                    validation_data=(x_validate, y_validate),\n",
        "                    epochs=100,\n",
        "                    callbacks=[early_stop],\n",
        "                    verbose=1)\n"
      ],
      "metadata": {
        "colab": {
          "base_uri": "https://localhost:8080/"
        },
        "id": "D5XpIAgZfedh",
        "outputId": "a5528d99-e403-4d7d-a2d2-ffc64a2021d5"
      },
      "execution_count": null,
      "outputs": [
        {
          "output_type": "stream",
          "name": "stdout",
          "text": [
            "Epoch 1/100\n",
            "  14/1250 [..............................] - ETA: 5:17:48 - loss: 54.7624 - accuracy: 0.1116"
          ]
        }
      ]
    },
    {
      "cell_type": "code",
      "source": [
        "evaluation = model.evaluate(x_test,y_test)\n",
        "print(f\"Test accuracy: {evaluation[1]*100:.2f}%\")"
      ],
      "metadata": {
        "id": "eiYuFG1Nfea6"
      },
      "execution_count": null,
      "outputs": []
    },
    {
      "cell_type": "code",
      "source": [
        "predicted_classes = model.predict(x_test)\n",
        "len(predicted_classes)"
      ],
      "metadata": {
        "id": "2Ah8herTfeYJ"
      },
      "execution_count": null,
      "outputs": []
    },
    {
      "cell_type": "code",
      "source": [
        "print(predicted_classes[0])\n",
        "y_test[0]"
      ],
      "metadata": {
        "id": "NAt8wvhqiAK1"
      },
      "execution_count": null,
      "outputs": []
    },
    {
      "cell_type": "code",
      "source": [
        "np.argmax(predicted_classes[0])"
      ],
      "metadata": {
        "id": "zRKXsTlRiAIU"
      },
      "execution_count": null,
      "outputs": []
    },
    {
      "cell_type": "code",
      "source": [
        "y_test[0]"
      ],
      "metadata": {
        "id": "oNHj3djGiAFs"
      },
      "execution_count": null,
      "outputs": []
    },
    {
      "cell_type": "code",
      "source": [
        "fig, axes = plt.subplots(5,5,figsize=(12,12))\n",
        "axes = axes.ravel()\n",
        "print(axes.shape)\n",
        "x_test[0].shape\n",
        "for i in np.arange(0,25):\n",
        "  axes[i].imshow(x_test[i].reshape(28,28))\n",
        "  axes[i].set_title(f\"Prediction Class = {np.argmax(predicted_classes[i]):.1f}\\nTrue class = {y_test[i]}\")\n",
        "\n",
        "\n",
        "  axes[i].axis('off')\n",
        "\n",
        "plt.subplots_adjust(wspace=0.5)"
      ],
      "metadata": {
        "id": "Rl_1WBoiiAC8"
      },
      "execution_count": null,
      "outputs": []
    },
    {
      "cell_type": "code",
      "source": [
        "from vis.utils import utils"
      ],
      "metadata": {
        "id": "nUZu4hCbiAAO"
      },
      "execution_count": null,
      "outputs": []
    },
    {
      "cell_type": "code",
      "source": [
        "# swap softmax layer with linear layer \n",
        "layer_idx = utils.find_layer_idx(model, 'predictions')\n",
        "model.layers[-1].activation = tf.keras.activations.linear\n",
        "model = utils.apply_modifications(model)"
      ],
      "metadata": {
        "id": "6Paxp6exh_9K"
      },
      "execution_count": null,
      "outputs": []
    },
    {
      "cell_type": "code",
      "source": [
        "!pip install tf-keras-vis"
      ],
      "metadata": {
        "id": "0GhNlK-Th_6b"
      },
      "execution_count": null,
      "outputs": []
    },
    {
      "cell_type": "code",
      "source": [
        "from matplotlib import cm\n",
        "from tf_keras_vis.gradcam import Gradcam"
      ],
      "metadata": {
        "id": "_tOVKH0EiJP6"
      },
      "execution_count": null,
      "outputs": []
    },
    {
      "cell_type": "code",
      "source": [
        "gradCam = Gradcam(model, clone =True)"
      ],
      "metadata": {
        "id": "o3hBJkd-iJNc"
      },
      "execution_count": null,
      "outputs": []
    },
    {
      "cell_type": "code",
      "source": [
        "from matplotlib.pyplot import plt"
      ],
      "metadata": {
        "id": "c7LImVDEiJK_"
      },
      "execution_count": null,
      "outputs": []
    },
    {
      "cell_type": "code",
      "source": [
        "from tf_keras_vis.utils.scores import CategoricalScore\n",
        "\n",
        "score = CategoricalScore([3, 8, 8 , 0])"
      ],
      "metadata": {
        "id": "rvVzLR3-iJIV"
      },
      "execution_count": null,
      "outputs": []
    },
    {
      "cell_type": "code",
      "source": [
        "input_classes = ['cat', 'ship', 'ship', 'airplain']"
      ],
      "metadata": {
        "id": "UZbxrxGqiJFi"
      },
      "execution_count": null,
      "outputs": []
    },
    {
      "cell_type": "code",
      "source": [
        "images = [x_test[0], x_test[1], x_test[2], x_test[3]]"
      ],
      "metadata": {
        "id": "8V4ghmDIiJC3"
      },
      "execution_count": null,
      "outputs": []
    },
    {
      "cell_type": "code",
      "source": [
        "y_test[3]"
      ],
      "metadata": {
        "id": "1dg4UD7XiVwR"
      },
      "execution_count": null,
      "outputs": []
    },
    {
      "cell_type": "code",
      "source": [
        "plt.imshow(x_test[100])"
      ],
      "metadata": {
        "id": "EJCb26ZziVt3"
      },
      "execution_count": null,
      "outputs": []
    },
    {
      "cell_type": "code",
      "source": [
        "from tensorflow.keras.applications.vgg16 import preprocess_input"
      ],
      "metadata": {
        "id": "z_tdrkneiVrS"
      },
      "execution_count": null,
      "outputs": []
    },
    {
      "cell_type": "code",
      "source": [
        "input_images = preprocess_input(images)"
      ],
      "metadata": {
        "id": "MsqYFVB7iVo1"
      },
      "execution_count": null,
      "outputs": []
    },
    {
      "cell_type": "code",
      "source": [
        "cam = gradCam(score, input_images, penultimate_layer=-1)"
      ],
      "metadata": {
        "id": "FkMGWRkjiVl5"
      },
      "execution_count": null,
      "outputs": []
    },
    {
      "cell_type": "code",
      "source": [
        "f, ax = plt.subplots(nrows = 1, ncols = 4, figsize=(12,4))\n",
        "for i, img_class in enumerate(input_classes):\n",
        "    heatmap = np.uint8(cm.jet(cam[i])[..., :4] * 255)\n",
        "    ax[i].set_title(img_class, fontsize=16)\n",
        "    ax[i].imshow(x_test[i])\n",
        "    ax[i].imshow(heatmap, cmap='jet', alpha=0.2) \n",
        "    ax[i].axis('off')\n",
        "plt.tight_layout()\n",
        "plt.show()"
      ],
      "metadata": {
        "id": "saM_RF1JiVjK"
      },
      "execution_count": null,
      "outputs": []
    },
    {
      "cell_type": "code",
      "source": [],
      "metadata": {
        "id": "yM5CILTOidE0"
      },
      "execution_count": null,
      "outputs": []
    },
    {
      "cell_type": "code",
      "source": [],
      "metadata": {
        "id": "MxEI_1yLidCe"
      },
      "execution_count": null,
      "outputs": []
    },
    {
      "cell_type": "code",
      "source": [],
      "metadata": {
        "id": "sOXeczagic_5"
      },
      "execution_count": null,
      "outputs": []
    },
    {
      "cell_type": "code",
      "source": [],
      "metadata": {
        "id": "-nG0Y9NSic9P"
      },
      "execution_count": null,
      "outputs": []
    },
    {
      "cell_type": "code",
      "source": [],
      "metadata": {
        "id": "TvdM8bZNic6W"
      },
      "execution_count": null,
      "outputs": []
    }
  ]
}